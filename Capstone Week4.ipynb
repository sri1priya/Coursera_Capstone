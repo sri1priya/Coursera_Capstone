{
    "cells": [
        {
            "cell_type": "markdown",
            "metadata": {
                "collapsed": true
            },
            "source": "# Introduction"
        },
        {
            "cell_type": "markdown",
            "metadata": {},
            "source": "Chicago is the third most populous city in United States. Chicago is an international hub for businesses. <br>The city is also very diverse and provides an umlimited opportunity for expansion of any business.<br> However, the location has to be decided after complete analysis of the data for the business to be successful"
        },
        {
            "cell_type": "markdown",
            "metadata": {},
            "source": "# Business problem\n"
        },
        {
            "cell_type": "markdown",
            "metadata": {},
            "source": "The objective of this project is to find a best location  for starting a new Indian Restaurant.<br>\nIndian restaurants could be a great opportunity given the diversity of the population.  <br>This project mainly focusses on the analysis of the geospatial data of Chicago neighborhoods to define a suitable location for new opportunities. <br>The location is determined using data science technologies and machine learning algorithms to answer the business question - What is the best location in Chicago neighborhoods to start an Indian Restaurant?"
        },
        {
            "cell_type": "markdown",
            "metadata": {},
            "source": "# Target Audience"
        },
        {
            "cell_type": "markdown",
            "metadata": {},
            "source": "The target audience are the clients that want to open a restaurant business in Chicago area"
        },
        {
            "cell_type": "markdown",
            "metadata": {},
            "source": "# Data"
        },
        {
            "cell_type": "markdown",
            "metadata": {},
            "source": "To solve this problem we require the below data\n* List of neighborhoods in Chicago <bR>\nWe use the wikipedia page https://en.wikipedia.org/wiki/List_of_neighborhoods_in_Chicago to get the list of neighborhoods in Chicago. We use beautiful soup to scrap the data \n* Lattitue and Longitude coordinates to plot the map and determine the nearby venues <br>\nUsing python geocoder package, we the get lattitude and longitude coordinates for the list of neighborhoods\nFolium will be used for map visualization\n* Venue data <br>\nFourSquarae API will be used to fetch the nearby venue data\n\n"
        },
        {
            "cell_type": "code",
            "execution_count": null,
            "metadata": {},
            "outputs": [],
            "source": ""
        }
    ],
    "metadata": {
        "kernelspec": {
            "display_name": "Python 3.7",
            "language": "python",
            "name": "python3"
        },
        "language_info": {
            "codemirror_mode": {
                "name": "ipython",
                "version": 3
            },
            "file_extension": ".py",
            "mimetype": "text/x-python",
            "name": "python",
            "nbconvert_exporter": "python",
            "pygments_lexer": "ipython3",
            "version": "3.7.10"
        }
    },
    "nbformat": 4,
    "nbformat_minor": 1
}